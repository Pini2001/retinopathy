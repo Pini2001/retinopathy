{
  "nbformat": 4,
  "nbformat_minor": 0,
  "metadata": {
    "colab": {
      "provenance": [],
      "include_colab_link": true
    },
    "kernelspec": {
      "name": "python3",
      "display_name": "Python 3"
    },
    "language_info": {
      "name": "python"
    }
  },
  "cells": [
    {
      "cell_type": "markdown",
      "metadata": {
        "id": "view-in-github",
        "colab_type": "text"
      },
      "source": [
        "<a href=\"https://colab.research.google.com/github/Pini2001/retinopathy/blob/main/FIANALVGG19YALOTENGO07052023.ipynb\" target=\"_parent\"><img src=\"https://colab.research.google.com/assets/colab-badge.svg\" alt=\"Open In Colab\"/></a>"
      ]
    },
    {
      "cell_type": "code",
      "source": [
        "!pip install google-colab"
      ],
      "metadata": {
        "id": "9D1t08Tp0BU2"
      },
      "execution_count": null,
      "outputs": []
    },
    {
      "cell_type": "code",
      "source": [
        "from google.colab import drive\n",
        "drive.mount('/content/drive')"
      ],
      "metadata": {
        "id": "a5_ORb9R0DVu"
      },
      "execution_count": null,
      "outputs": []
    },
    {
      "cell_type": "code",
      "source": [
        "import pandas as pd\n",
        "import numpy as np\n",
        "import seaborn as sns\n",
        "import matplotlib.pyplot as plt\n",
        "import os\n",
        "from zipfile import ZipFile\n",
        "from PIL import Image\n",
        "from skimage import data, io, color\n",
        "import sys\n",
        "import cv2\n",
        "from cv2 import cvtColor\n",
        "from skimage.feature import greycomatrix, greycoprops"
      ],
      "metadata": {
        "id": "DpNzkeDM0FIx"
      },
      "execution_count": null,
      "outputs": []
    },
    {
      "cell_type": "code",
      "source": [
        "train_csv = '/content/drive/MyDrive/train.csv'\n",
        "train_images= '/content/drive/MyDrive/train_images.zip'"
      ],
      "metadata": {
        "id": "_fEvAjCF0HeH"
      },
      "execution_count": null,
      "outputs": []
    },
    {
      "cell_type": "code",
      "source": [
        "with ZipFile('/content/drive/MyDrive/train_images.zip', 'r') as zip_ref:\n",
        "    # Loop through all files in the zip file\n",
        "    for filename in zip_ref.namelist():\n",
        "        # Check if the file is an image (you may want to adjust this based on your image file types)\n",
        "        if filename.endswith('.png'):\n",
        "            # Extract the image file to a temporary location if the directory 'DR' doesn't already exist\n",
        "            if not os.path.exists('DR'):\n",
        "                os.makedirs('DR')\n",
        "                zip_ref.extract(filename, path='DR')\n",
        "            else:\n",
        "                if not os.path.exists(f'DR/{filename}'):\n",
        "                    zip_ref.extract(filename, path='DR')"
      ],
      "metadata": {
        "id": "C5pMvyxd0JN6"
      },
      "execution_count": null,
      "outputs": []
    },
    {
      "cell_type": "code",
      "source": [
        "import os\n",
        "# Count the number of files in the 'DR' directory\n",
        "num_images = len(os.listdir('DR'))\n",
        "# Print the number of images\n",
        "print(f'There are {num_images} images in the DR directory')\n"
      ],
      "metadata": {
        "colab": {
          "base_uri": "https://localhost:8080/"
        },
        "id": "ymciCKq1PZFC",
        "outputId": "a303ab7b-1a6d-4684-bfd1-04e5f1770d16"
      },
      "execution_count": null,
      "outputs": [
        {
          "output_type": "stream",
          "name": "stdout",
          "text": [
            "There are 3662 images in the DR directory\n"
          ]
        }
      ]
    },
    {
      "cell_type": "code",
      "source": [
        "train = pd.read_csv(train_csv, delimiter=',')\n",
        "#Creating column \n",
        "train['labels']= np.where(train['diagnosis'] == 0, 'No', 'Si')\n",
        "test = pd.read_csv(test_csv, delimiter=',')\n",
        "train.dataframeName = 'train.csv'\n",
        "nRow, nCol = train.shape\n",
        "print(f'There are {nRow} rows and {nCol} columns in the training set')\n",
        "nRow, nCol = test.shape\n",
        "print(f'There are {nRow} rows and {nCol} columns  in the validation set')\n",
        "#len(df.columns)\n",
        "train.head()"
      ],
      "metadata": {
        "colab": {
          "base_uri": "https://localhost:8080/",
          "height": 242
        },
        "id": "262BLxQU0UvU",
        "outputId": "c3b8b116-3216-4fd4-c548-4374efe3d393"
      },
      "execution_count": null,
      "outputs": [
        {
          "output_type": "stream",
          "name": "stdout",
          "text": [
            "There are 3662 rows and 3 columns in the training set\n",
            "There are 1928 rows and 1 columns  in the validation set\n"
          ]
        },
        {
          "output_type": "execute_result",
          "data": {
            "text/plain": [
              "        id_code  diagnosis labels\n",
              "0  000c1434d8d7          2     Si\n",
              "1  001639a390f0          4     Si\n",
              "2  0024cdab0c1e          1     Si\n",
              "3  002c21358ce6          0     No\n",
              "4  005b95c28852          0     No"
            ],
            "text/html": [
              "\n",
              "  <div id=\"df-afd48984-fb1b-44de-92b0-c5a0451d3ede\">\n",
              "    <div class=\"colab-df-container\">\n",
              "      <div>\n",
              "<style scoped>\n",
              "    .dataframe tbody tr th:only-of-type {\n",
              "        vertical-align: middle;\n",
              "    }\n",
              "\n",
              "    .dataframe tbody tr th {\n",
              "        vertical-align: top;\n",
              "    }\n",
              "\n",
              "    .dataframe thead th {\n",
              "        text-align: right;\n",
              "    }\n",
              "</style>\n",
              "<table border=\"1\" class=\"dataframe\">\n",
              "  <thead>\n",
              "    <tr style=\"text-align: right;\">\n",
              "      <th></th>\n",
              "      <th>id_code</th>\n",
              "      <th>diagnosis</th>\n",
              "      <th>labels</th>\n",
              "    </tr>\n",
              "  </thead>\n",
              "  <tbody>\n",
              "    <tr>\n",
              "      <th>0</th>\n",
              "      <td>000c1434d8d7</td>\n",
              "      <td>2</td>\n",
              "      <td>Si</td>\n",
              "    </tr>\n",
              "    <tr>\n",
              "      <th>1</th>\n",
              "      <td>001639a390f0</td>\n",
              "      <td>4</td>\n",
              "      <td>Si</td>\n",
              "    </tr>\n",
              "    <tr>\n",
              "      <th>2</th>\n",
              "      <td>0024cdab0c1e</td>\n",
              "      <td>1</td>\n",
              "      <td>Si</td>\n",
              "    </tr>\n",
              "    <tr>\n",
              "      <th>3</th>\n",
              "      <td>002c21358ce6</td>\n",
              "      <td>0</td>\n",
              "      <td>No</td>\n",
              "    </tr>\n",
              "    <tr>\n",
              "      <th>4</th>\n",
              "      <td>005b95c28852</td>\n",
              "      <td>0</td>\n",
              "      <td>No</td>\n",
              "    </tr>\n",
              "  </tbody>\n",
              "</table>\n",
              "</div>\n",
              "      <button class=\"colab-df-convert\" onclick=\"convertToInteractive('df-afd48984-fb1b-44de-92b0-c5a0451d3ede')\"\n",
              "              title=\"Convert this dataframe to an interactive table.\"\n",
              "              style=\"display:none;\">\n",
              "        \n",
              "  <svg xmlns=\"http://www.w3.org/2000/svg\" height=\"24px\"viewBox=\"0 0 24 24\"\n",
              "       width=\"24px\">\n",
              "    <path d=\"M0 0h24v24H0V0z\" fill=\"none\"/>\n",
              "    <path d=\"M18.56 5.44l.94 2.06.94-2.06 2.06-.94-2.06-.94-.94-2.06-.94 2.06-2.06.94zm-11 1L8.5 8.5l.94-2.06 2.06-.94-2.06-.94L8.5 2.5l-.94 2.06-2.06.94zm10 10l.94 2.06.94-2.06 2.06-.94-2.06-.94-.94-2.06-.94 2.06-2.06.94z\"/><path d=\"M17.41 7.96l-1.37-1.37c-.4-.4-.92-.59-1.43-.59-.52 0-1.04.2-1.43.59L10.3 9.45l-7.72 7.72c-.78.78-.78 2.05 0 2.83L4 21.41c.39.39.9.59 1.41.59.51 0 1.02-.2 1.41-.59l7.78-7.78 2.81-2.81c.8-.78.8-2.07 0-2.86zM5.41 20L4 18.59l7.72-7.72 1.47 1.35L5.41 20z\"/>\n",
              "  </svg>\n",
              "      </button>\n",
              "      \n",
              "  <style>\n",
              "    .colab-df-container {\n",
              "      display:flex;\n",
              "      flex-wrap:wrap;\n",
              "      gap: 12px;\n",
              "    }\n",
              "\n",
              "    .colab-df-convert {\n",
              "      background-color: #E8F0FE;\n",
              "      border: none;\n",
              "      border-radius: 50%;\n",
              "      cursor: pointer;\n",
              "      display: none;\n",
              "      fill: #1967D2;\n",
              "      height: 32px;\n",
              "      padding: 0 0 0 0;\n",
              "      width: 32px;\n",
              "    }\n",
              "\n",
              "    .colab-df-convert:hover {\n",
              "      background-color: #E2EBFA;\n",
              "      box-shadow: 0px 1px 2px rgba(60, 64, 67, 0.3), 0px 1px 3px 1px rgba(60, 64, 67, 0.15);\n",
              "      fill: #174EA6;\n",
              "    }\n",
              "\n",
              "    [theme=dark] .colab-df-convert {\n",
              "      background-color: #3B4455;\n",
              "      fill: #D2E3FC;\n",
              "    }\n",
              "\n",
              "    [theme=dark] .colab-df-convert:hover {\n",
              "      background-color: #434B5C;\n",
              "      box-shadow: 0px 1px 3px 1px rgba(0, 0, 0, 0.15);\n",
              "      filter: drop-shadow(0px 1px 2px rgba(0, 0, 0, 0.3));\n",
              "      fill: #FFFFFF;\n",
              "    }\n",
              "  </style>\n",
              "\n",
              "      <script>\n",
              "        const buttonEl =\n",
              "          document.querySelector('#df-afd48984-fb1b-44de-92b0-c5a0451d3ede button.colab-df-convert');\n",
              "        buttonEl.style.display =\n",
              "          google.colab.kernel.accessAllowed ? 'block' : 'none';\n",
              "\n",
              "        async function convertToInteractive(key) {\n",
              "          const element = document.querySelector('#df-afd48984-fb1b-44de-92b0-c5a0451d3ede');\n",
              "          const dataTable =\n",
              "            await google.colab.kernel.invokeFunction('convertToInteractive',\n",
              "                                                     [key], {});\n",
              "          if (!dataTable) return;\n",
              "\n",
              "          const docLinkHtml = 'Like what you see? Visit the ' +\n",
              "            '<a target=\"_blank\" href=https://colab.research.google.com/notebooks/data_table.ipynb>data table notebook</a>'\n",
              "            + ' to learn more about interactive tables.';\n",
              "          element.innerHTML = '';\n",
              "          dataTable['output_type'] = 'display_data';\n",
              "          await google.colab.output.renderOutput(dataTable, element);\n",
              "          const docLink = document.createElement('div');\n",
              "          docLink.innerHTML = docLinkHtml;\n",
              "          element.appendChild(docLink);\n",
              "        }\n",
              "      </script>\n",
              "    </div>\n",
              "  </div>\n",
              "  "
            ]
          },
          "metadata": {},
          "execution_count": 7
        }
      ]
    },
    {
      "cell_type": "code",
      "source": [
        "'''This Function Plots a Bar plot of output Classes Distribution'''\n",
        "def plot_classes(trainvis):\n",
        "    df_group = pd.DataFrame(trainvis.groupby('diagnosis').agg('size').reset_index())\n",
        "    df_group.columns = ['diagnosis','frecuencia']\n",
        "\n",
        "    sns.set(rc={'figure.figsize':(10,5)}, style = 'whitegrid')\n",
        "    sns.barplot(x = 'diagnosis', y='frecuencia', data = df_group, palette = \"Blues_d\")\n",
        "    plt.title('Niveles de severidad de la DR')\n",
        "    plt.show() "
      ],
      "metadata": {
        "id": "vp1uQsaz0W-0"
      },
      "execution_count": null,
      "outputs": []
    },
    {
      "cell_type": "code",
      "source": [
        "plot_classes(train)"
      ],
      "metadata": {
        "id": "Sb7HotJq0Ylc"
      },
      "execution_count": null,
      "outputs": []
    },
    {
      "cell_type": "markdown",
      "source": [
        "https://thedatafrog.com/en/articles/dogs-vs-cats/\n",
        "\n",
        "https://thedatafrog.com/en/articles/image-recognition-transfer-learning/\n",
        "\n",
        "https://www.kaggle.com/code/thanhphongl/vgg19-image-classification\n"
      ],
      "metadata": {
        "id": "NIcRMqaHvqMU"
      }
    },
    {
      "cell_type": "code",
      "source": [
        "def resumen(model=None):\n",
        "    '''\n",
        "    '''\n",
        "    header = '{:4} {:16} {:24} {:24} {:10}'.format('#', 'Layer Name','Layer Input Shape','Layer Output Shape','Parameters'\n",
        "    )\n",
        "    print('='*(len(header)))\n",
        "    print(header)\n",
        "    print('='*(len(header)))\n",
        "    count=0\n",
        "    count_trainable=0\n",
        "    for i, layer in enumerate(model.layers):\n",
        "        count_trainable += layer.count_params() if layer.trainable else 0\n",
        "        input_shape = '{}'.format(layer.input_shape)\n",
        "        output_shape = '{}'.format(layer.output_shape)\n",
        "        str = '{:<4d} {:16} {:24} {:24} {:10}'.format(i,layer.name, input_shape, output_shape, layer.count_params())\n",
        "        print(str)\n",
        "        count += layer.count_params()\n",
        "    print('_'*(len(header)))\n",
        "    print('Total Parameters : ', count)\n",
        "    print('Total Trainable Parameters : ', count_trainable)\n",
        "    print('Total No-Trainable Parameters : ', count-count_trainable)\n",
        "    \n",
        "  \n",
        "vgg19=None\n"
      ],
      "metadata": {
        "id": "C1477GBzaBTV"
      },
      "execution_count": null,
      "outputs": []
    },
    {
      "cell_type": "markdown",
      "source": [
        "Importar las bibliotecas necesarias:"
      ],
      "metadata": {
        "id": "p5aT52yHoORc"
      }
    },
    {
      "cell_type": "code",
      "source": [
        "import tensorflow as tf\n",
        "from tensorflow.keras.models import Model\n",
        "from tensorflow.keras.layers import Dense, GlobalAveragePooling2D\n",
        "from tensorflow.keras.optimizers import Adam\n",
        "from tensorflow.keras.applications.vgg19 import VGG19\n",
        "import matplotlib.pyplot as plt"
      ],
      "metadata": {
        "id": "t_BBzeUHoVgG"
      },
      "execution_count": null,
      "outputs": []
    },
    {
      "cell_type": "code",
      "source": [
        "import pandas as pd\n",
        "import numpy as np\n",
        "from tensorflow.keras.preprocessing.image import ImageDataGenerator\n",
        "from keras.applications.vgg19 import preprocess_input\n",
        "\n",
        "def generators(shape, preprocessing, train_csv): \n",
        "    train_datagen = ImageDataGenerator(\n",
        "        preprocessing_function=preprocessing,\n",
        "        horizontal_flip=True,\n",
        "        validation_split=0.25\n",
        "    )\n",
        "\n",
        "    # Load the CSV file with image filenames and their corresponding labels\n",
        "    df = pd.read_csv(train_csv)\n",
        "    df['id_code'] = df['id_code'].apply(lambda x: x + '.png')\n",
        "    df['label'] = np.where(df['diagnosis'] == 0, 'No', 'Si')\n",
        "\n",
        "    # Create the data generators\n",
        "    train_generator = train_datagen.flow_from_dataframe(\n",
        "        dataframe=df,\n",
        "        directory='/content/DR',\n",
        "        x_col='id_code',\n",
        "        y_col='label',\n",
        "        target_size=(224, 224),\n",
        "        batch_size=30,\n",
        "        class_mode='binary',\n",
        "        subset='training'\n",
        "    )\n",
        "\n",
        "    val_generator = train_datagen.flow_from_dataframe(\n",
        "        dataframe=df,\n",
        "        directory='/content/DR',\n",
        "        x_col='id_code',\n",
        "        y_col='label',\n",
        "        target_size=(224, 224),\n",
        "        batch_size=30,\n",
        "        class_mode='binary',\n",
        "        subset='validation'\n",
        "    )\n",
        "\n",
        "    return train_generator, val_generator\n"
      ],
      "metadata": {
        "id": "cYCpv3tqOtl0"
      },
      "execution_count": null,
      "outputs": []
    },
    {
      "cell_type": "code",
      "source": [
        "train_generator, val_generator = generators((224, 224), preprocess_input, train_csv)\n",
        "\n",
        "# Print the number of images in the train and validation generators\n",
        "print(f'There are {train_generator.n} images in the training generator')\n",
        "print(f'There are {val_generator.n} images in the validation generator')\n"
      ],
      "metadata": {
        "colab": {
          "base_uri": "https://localhost:8080/"
        },
        "id": "dmrVQweTBy2Q",
        "outputId": "5945efc9-ee60-4150-a702-6f93ba3ed21f"
      },
      "execution_count": null,
      "outputs": [
        {
          "output_type": "stream",
          "name": "stdout",
          "text": [
            "Found 2747 validated image filenames belonging to 2 classes.\n",
            "Found 915 validated image filenames belonging to 2 classes.\n",
            "There are 2747 images in the training generator\n",
            "There are 915 images in the validation generator\n"
          ]
        }
      ]
    },
    {
      "cell_type": "code",
      "source": [
        "x_train, y_train = next(train_generator)\n",
        "x_val, y_val = next(val_generator)\n",
        "print(x_train.shape, y_train.shape)\n",
        "print(x_val.shape, y_val.shape)\n"
      ],
      "metadata": {
        "colab": {
          "base_uri": "https://localhost:8080/"
        },
        "id": "LkvXbxRpDR2U",
        "outputId": "dac0a555-bc5b-49de-80ea-fc70d9749083"
      },
      "execution_count": null,
      "outputs": [
        {
          "output_type": "stream",
          "name": "stdout",
          "text": [
            "(30, 224, 224, 3) (30,)\n",
            "(30, 224, 224, 3) (30,)\n"
          ]
        }
      ]
    },
    {
      "cell_type": "code",
      "source": [
        "#train_datagen = ImageDataGenerator(rescale=1./255) # no se aplica aumento de datos \n",
        "#train_generator = train_datagen.flow_from_directory( 'ruta/a/las/imagenes',    target_size=(224, 224),   batch_size=30,   class_mode='binary')\n",
        "#def generators(shape, preprocessing): \n",
        "#train_datagen = ImageDataGenerator(preprocessing_function = preprocessing, rescale = 1/255.,  horizontal_flip = True, validation_split = 0.25)\n",
        "#train_dataset = train_datagen.flow_from_directory(os.getcwd('/content/DR'), target_size=(224, 224), classes = ('Si','No'), batch_size = 30,  subset = 'training' )\n",
        "#val_dataset = train_datagen.flow_from_directory( os.getcwd('/content/DR'),  target_size = (224, 224) , classes = ('Si','No'), batch_size = 30, subset = 'validation')\n"
      ],
      "metadata": {
        "id": "3_FufSsHttJ4"
      },
      "execution_count": null,
      "outputs": []
    },
    {
      "cell_type": "code",
      "source": [
        "base_model = VGG19(weights='imagenet', include_top=False, input_shape = (224,224, 3))\n",
        "print('VGG19 Descargado')\n",
        "resumen(base_model)\n"
      ],
      "metadata": {
        "id": "E0851s8joYJu",
        "colab": {
          "base_uri": "https://localhost:8080/"
        },
        "outputId": "337f7525-4175-4f23-a335-a748853478fb"
      },
      "execution_count": null,
      "outputs": [
        {
          "output_type": "stream",
          "name": "stdout",
          "text": [
            "VGG19 Descargado\n",
            "==================================================================================\n",
            "#    Layer Name       Layer Input Shape        Layer Output Shape       Parameters\n",
            "==================================================================================\n",
            "0    input_1          [(None, 224, 224, 3)]    [(None, 224, 224, 3)]             0\n",
            "1    block1_conv1     (None, 224, 224, 3)      (None, 224, 224, 64)           1792\n",
            "2    block1_conv2     (None, 224, 224, 64)     (None, 224, 224, 64)          36928\n",
            "3    block1_pool      (None, 224, 224, 64)     (None, 112, 112, 64)              0\n",
            "4    block2_conv1     (None, 112, 112, 64)     (None, 112, 112, 128)         73856\n",
            "5    block2_conv2     (None, 112, 112, 128)    (None, 112, 112, 128)        147584\n",
            "6    block2_pool      (None, 112, 112, 128)    (None, 56, 56, 128)               0\n",
            "7    block3_conv1     (None, 56, 56, 128)      (None, 56, 56, 256)          295168\n",
            "8    block3_conv2     (None, 56, 56, 256)      (None, 56, 56, 256)          590080\n",
            "9    block3_conv3     (None, 56, 56, 256)      (None, 56, 56, 256)          590080\n",
            "10   block3_conv4     (None, 56, 56, 256)      (None, 56, 56, 256)          590080\n",
            "11   block3_pool      (None, 56, 56, 256)      (None, 28, 28, 256)               0\n",
            "12   block4_conv1     (None, 28, 28, 256)      (None, 28, 28, 512)         1180160\n",
            "13   block4_conv2     (None, 28, 28, 512)      (None, 28, 28, 512)         2359808\n",
            "14   block4_conv3     (None, 28, 28, 512)      (None, 28, 28, 512)         2359808\n",
            "15   block4_conv4     (None, 28, 28, 512)      (None, 28, 28, 512)         2359808\n",
            "16   block4_pool      (None, 28, 28, 512)      (None, 14, 14, 512)               0\n",
            "17   block5_conv1     (None, 14, 14, 512)      (None, 14, 14, 512)         2359808\n",
            "18   block5_conv2     (None, 14, 14, 512)      (None, 14, 14, 512)         2359808\n",
            "19   block5_conv3     (None, 14, 14, 512)      (None, 14, 14, 512)         2359808\n",
            "20   block5_conv4     (None, 14, 14, 512)      (None, 14, 14, 512)         2359808\n",
            "21   block5_pool      (None, 14, 14, 512)      (None, 7, 7, 512)                 0\n",
            "__________________________________________________________________________________\n",
            "Total Parameters :  20024384\n",
            "Total Trainable Parameters :  20024384\n",
            "Total No-Trainable Parameters :  0\n"
          ]
        }
      ]
    },
    {
      "cell_type": "markdown",
      "source": [
        "Cargar el modelo pre-entrenado VGG19 con los pesos de ImageNet y sin la última capa densa:"
      ],
      "metadata": {
        "id": "Uz-689OMohWk"
      }
    },
    {
      "cell_type": "markdown",
      "source": [
        "Congelar las capas convolucionales del modelo base:"
      ],
      "metadata": {
        "id": "p9KbcShfoiHV"
      }
    },
    {
      "cell_type": "code",
      "source": [
        "for layer in base_model.layers:\n",
        "    layer.trainable = False"
      ],
      "metadata": {
        "id": "ogkBM9ymolWA"
      },
      "execution_count": null,
      "outputs": []
    },
    {
      "cell_type": "markdown",
      "source": [
        "Añadir una nueva capa densa en la parte superior del modelo base para nuestra tarea de clasificación binaria"
      ],
      "metadata": {
        "id": "XNEbMZNgooBx"
      }
    },
    {
      "cell_type": "code",
      "source": [
        "x = base_model.output\n",
        "x = GlobalAveragePooling2D()(x)  \n",
        "#GlobalAveragePooling2D() tends to work better for tasks where the spatial location of the features is not as important\n",
        "#such as image classificationas it allows the model to focus more on the global patterns in the image.\n",
        "# Flatten() can be more suitable for tasks where the spatial location of the features is important, such as object detection, as it preserves the spatial information in the output.\n",
        "# one hidden layers\n",
        "x = Dense(100, activation='relu')(x) # small dataset it is generally advisable to start with a smaller number of neurons in the intermediate layer to avoid overfitting\n",
        "#x = Dense(128, activation='relu')(x)\n",
        "predictions = Dense(1, activation='sigmoid')(x)  # for binary classification between patients with diabetic retinopathy or not.\n",
        "\n"
      ],
      "metadata": {
        "id": "tv7q8-5dorkV"
      },
      "execution_count": null,
      "outputs": []
    },
    {
      "cell_type": "markdown",
      "source": [
        "Crear el modelo final especificando las entradas y salidas:"
      ],
      "metadata": {
        "id": "WheLNItwotc0"
      }
    },
    {
      "cell_type": "code",
      "source": [
        "# creating the full model:\n",
        "model = Model(inputs=base_model.input, outputs=predictions)\n",
        "resumen(model)"
      ],
      "metadata": {
        "id": "dWDOWCr6oykR",
        "colab": {
          "base_uri": "https://localhost:8080/"
        },
        "outputId": "12579de2-3cd7-4ae6-8c12-6b7a06df9a68"
      },
      "execution_count": null,
      "outputs": [
        {
          "output_type": "stream",
          "name": "stdout",
          "text": [
            "==================================================================================\n",
            "#    Layer Name       Layer Input Shape        Layer Output Shape       Parameters\n",
            "==================================================================================\n",
            "0    input_1          [(None, 224, 224, 3)]    [(None, 224, 224, 3)]             0\n",
            "1    block1_conv1     (None, 224, 224, 3)      (None, 224, 224, 64)           1792\n",
            "2    block1_conv2     (None, 224, 224, 64)     (None, 224, 224, 64)          36928\n",
            "3    block1_pool      (None, 224, 224, 64)     (None, 112, 112, 64)              0\n",
            "4    block2_conv1     (None, 112, 112, 64)     (None, 112, 112, 128)         73856\n",
            "5    block2_conv2     (None, 112, 112, 128)    (None, 112, 112, 128)        147584\n",
            "6    block2_pool      (None, 112, 112, 128)    (None, 56, 56, 128)               0\n",
            "7    block3_conv1     (None, 56, 56, 128)      (None, 56, 56, 256)          295168\n",
            "8    block3_conv2     (None, 56, 56, 256)      (None, 56, 56, 256)          590080\n",
            "9    block3_conv3     (None, 56, 56, 256)      (None, 56, 56, 256)          590080\n",
            "10   block3_conv4     (None, 56, 56, 256)      (None, 56, 56, 256)          590080\n",
            "11   block3_pool      (None, 56, 56, 256)      (None, 28, 28, 256)               0\n",
            "12   block4_conv1     (None, 28, 28, 256)      (None, 28, 28, 512)         1180160\n",
            "13   block4_conv2     (None, 28, 28, 512)      (None, 28, 28, 512)         2359808\n",
            "14   block4_conv3     (None, 28, 28, 512)      (None, 28, 28, 512)         2359808\n",
            "15   block4_conv4     (None, 28, 28, 512)      (None, 28, 28, 512)         2359808\n",
            "16   block4_pool      (None, 28, 28, 512)      (None, 14, 14, 512)               0\n",
            "17   block5_conv1     (None, 14, 14, 512)      (None, 14, 14, 512)         2359808\n",
            "18   block5_conv2     (None, 14, 14, 512)      (None, 14, 14, 512)         2359808\n",
            "19   block5_conv3     (None, 14, 14, 512)      (None, 14, 14, 512)         2359808\n",
            "20   block5_conv4     (None, 14, 14, 512)      (None, 14, 14, 512)         2359808\n",
            "21   block5_pool      (None, 14, 14, 512)      (None, 7, 7, 512)                 0\n",
            "22   global_average_pooling2d (None, 7, 7, 512)        (None, 512)                       0\n",
            "23   dense            (None, 512)              (None, 100)                   51300\n",
            "24   dense_1          (None, 100)              (None, 1)                       101\n",
            "__________________________________________________________________________________\n",
            "Total Parameters :  20075785\n",
            "Total Trainable Parameters :  51401\n",
            "Total No-Trainable Parameters :  20024384\n"
          ]
        }
      ]
    },
    {
      "cell_type": "markdown",
      "source": [
        "Compilar el modelo especificando la función de pérdida, el optimizador y la métrica:"
      ],
      "metadata": {
        "id": "hs8m8oRxo37K"
      }
    },
    {
      "cell_type": "code",
      "source": [
        "model.compile(loss='binary_crossentropy',\n",
        "              optimizer=Adam(lr=0.001),\n",
        "              metrics=['accuracy'])\n"
      ],
      "metadata": {
        "colab": {
          "base_uri": "https://localhost:8080/"
        },
        "id": "Wc9iTox_o2_k",
        "outputId": "cc1eaf36-c1be-4aab-b1e0-a64c9d6f285c"
      },
      "execution_count": null,
      "outputs": [
        {
          "output_type": "stream",
          "name": "stderr",
          "text": [
            "WARNING:absl:`lr` is deprecated in Keras optimizer, please use `learning_rate` or use the legacy optimizer, e.g.,tf.keras.optimizers.legacy.Adam.\n"
          ]
        }
      ]
    },
    {
      "cell_type": "code",
      "source": [
        "\n",
        "def plot_history(history, yrange):\n",
        "    '''Plot loss and accuracy as a function of the epoch,\n",
        "    for the training and validation datasets.\n",
        "    '''\n",
        "    acc = history.history['accuracy'] #['acc'] \n",
        "    #acc = history.history['acc'] \n",
        "    val_acc = history.history['val_accuracy']\n",
        "    #val_acc = history.history['val_acc']\n",
        "    loss = history.history['loss']\n",
        "    val_loss = history.history['val_loss']\n",
        "\n",
        "    # Get number of epochs\n",
        "    epochs = range(len(acc))\n",
        "\n",
        "    # Plot training and validation accuracy per epoch\n",
        "    plt.plot(epochs, acc)\n",
        "    plt.plot(epochs, val_acc)\n",
        "    plt.title('Training and validation accuracy')\n",
        "    plt.ylim(yrange)\n",
        "    \n",
        "    # Plot training and validation loss per epoch\n",
        "    plt.figure()\n",
        "\n",
        "    plt.plot(epochs, loss)\n",
        "    plt.plot(epochs, val_loss)\n",
        "    plt.title('Training and validation loss')\n",
        "    \n",
        "    plt.show()\n"
      ],
      "metadata": {
        "id": "TNmLE5-FhYA0"
      },
      "execution_count": null,
      "outputs": []
    },
    {
      "cell_type": "code",
      "source": [
        "#model.fit(train_generator, steps_per_epoch=train_steps, epochs=num_epochs,  validation_data=val_generator, validation_steps=val_steps)\n",
        "#model.fit(x_train, y_train, epochs=10, batch_size=32, validation_data=(x_val, y_val))\n",
        "#history = model.fit_generator(train_generator,val_generator, workers=10,epochs= 10)\n",
        "#plot_history(history, yrange=(0.9,1))\n"
      ],
      "metadata": {
        "id": "QU62PNiipDIb"
      },
      "execution_count": null,
      "outputs": []
    },
    {
      "cell_type": "markdown",
      "source": [
        "Entrenar el modelo con nuestros datos:"
      ],
      "metadata": {
        "id": "40nfBipOpAsy"
      }
    },
    {
      "cell_type": "markdown",
      "source": [
        "Tarda mucho"
      ],
      "metadata": {
        "id": "Jo0Bdu0ET-1o"
      }
    },
    {
      "cell_type": "code",
      "source": [
        "history = model.fit_generator(train_generator, epochs=5, validation_data=val_generator, workers=10) \n",
        "plot_history(history, yrange=(0.9,1))\n"
      ],
      "metadata": {
        "id": "ekqv-EEzJEid",
        "colab": {
          "base_uri": "https://localhost:8080/",
          "height": 1000
        },
        "outputId": "24ede2b8-e5c8-4ae8-c1c5-24ea302ab8b8"
      },
      "execution_count": null,
      "outputs": [
        {
          "output_type": "stream",
          "name": "stderr",
          "text": [
            "<ipython-input-27-86f41c4f8254>:1: UserWarning: `Model.fit_generator` is deprecated and will be removed in a future version. Please use `Model.fit`, which supports generators.\n",
            "  history = model.fit_generator(train_generator, epochs=5, validation_data=val_generator, workers=10)\n"
          ]
        },
        {
          "output_type": "stream",
          "name": "stdout",
          "text": [
            "Epoch 1/5\n",
            "92/92 [==============================] - 3418s 37s/step - loss: 0.2245 - accuracy: 0.9159 - val_loss: 0.1703 - val_accuracy: 0.9290\n",
            "Epoch 2/5\n",
            "92/92 [==============================] - 3409s 37s/step - loss: 0.1201 - accuracy: 0.9574 - val_loss: 0.1347 - val_accuracy: 0.9585\n",
            "Epoch 3/5\n",
            "92/92 [==============================] - 3412s 37s/step - loss: 0.1175 - accuracy: 0.9603 - val_loss: 0.1179 - val_accuracy: 0.9563\n",
            "Epoch 4/5\n",
            "92/92 [==============================] - 3409s 37s/step - loss: 0.0948 - accuracy: 0.9680 - val_loss: 0.1253 - val_accuracy: 0.9574\n",
            "Epoch 5/5\n",
            "92/92 [==============================] - 3455s 37s/step - loss: 0.1014 - accuracy: 0.9651 - val_loss: 0.0951 - val_accuracy: 0.9661\n"
          ]
        },
        {
          "output_type": "display_data",
          "data": {
            "text/plain": [
              "<Figure size 1200x700 with 1 Axes>"
            ],
            "image/png": "[encoded data removed]"
          },
          "metadata": {}
        },
        {
          "output_type": "display_data",
          "data": {
            "text/plain": [
              "<Figure size 1200x700 with 1 Axes>"
            ],
            "image/png": "[encoded data removed]"
          },
          "metadata": {}
        }
      ]
    },
    {
      "cell_type": "code",
      "source": [
        "#history = model.fit_generator(train_generator, epochs=10, validation_data=val_generator)\n",
        "#history = model.fit_generator(train_generator, epochs=1, validation_data=val_generator, workers=10)"
      ],
      "metadata": {
        "id": "k4RbY-QKDqOA"
      },
      "execution_count": null,
      "outputs": []
    },
    {
      "cell_type": "code",
      "source": [
        "#plot_history(history, yrange=(0.9,1))"
      ],
      "metadata": {
        "id": "QcLBYyuIrOE7"
      },
      "execution_count": null,
      "outputs": []
    },
    {
      "cell_type": "code",
      "source": [
        "#history = model.fit_generator(train_generator, epochs=5, validation_data=val_generator, workers=10)"
      ],
      "metadata": {
        "id": "Ap9x_8wjGr5w"
      },
      "execution_count": null,
      "outputs": []
    },
    {
      "cell_type": "markdown",
      "source": [
        "FIN"
      ],
      "metadata": {
        "id": "14KpU_JnpLPm"
      }
    },
    {
      "cell_type": "markdown",
      "source": [
        "en principio funciona todo, lo único que no he conseguido q se me carge la linea del histori en 1h30, tendré q runear el código con tiempo mañana "
      ],
      "metadata": {
        "id": "JmGPJX9Q0xK4"
      }
    }
  ]
}